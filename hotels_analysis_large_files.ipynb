{
 "cells": [
  {
   "cell_type": "code",
   "execution_count": 147,
   "metadata": {},
   "outputs": [],
   "source": [
    "import ijson\n",
    "import pandas as pd\n",
    "import numpy as np"
   ]
  },
  {
   "cell_type": "code",
   "execution_count": 149,
   "metadata": {},
   "outputs": [
    {
     "name": "stdout",
     "output_type": "stream",
     "text": [
      "['HOTEL NAME', 'ADDRESS', 'STATE', 'PHONE', 'FAX', 'EMAIL ID', 'WEBSITE', 'TYPE', 'Rooms']\n"
     ]
    }
   ],
   "source": [
    "with open('./hotels.json', 'rb') as input_file:\n",
    "    columns=list(ijson.items(input_file, 'fields.item'))\n",
    "    fields=list()\n",
    "    for item in columns:\n",
    "        fields.append(item['label'])\n",
    "    print(fields)"
   ]
  },
  {
   "cell_type": "code",
   "execution_count": 171,
   "metadata": {},
   "outputs": [
    {
     "name": "stdout",
     "output_type": "stream",
     "text": [
      "processed 100 number of rows\n",
      "processed 200 number of rows\n",
      "processed 300 number of rows\n"
     ]
    }
   ],
   "source": [
    "with open('./hotels.json', 'rb') as input_file:\n",
    "    parser = ijson.parse(input_file)\n",
    "    row_count=0\n",
    "    column_count=0\n",
    "    chunk_count=0\n",
    "    chunk_size=100\n",
    "    temp_list=[]\n",
    "    df=pd.DataFrame(columns=fields)\n",
    "    result=pd.DataFrame(columns=['HOTEL NAME','STATE','TYPE','Rooms'])\n",
    "    for prefix, event, value in parser:\n",
    "        if row_count<chunk_size:\n",
    "            if(prefix=='data.item.item'):\n",
    "                if(not column_count == len(fields)-1):\n",
    "                    temp_list.append(value)\n",
    "                    column_count+=1\n",
    "                else:\n",
    "                    temp_list.append(value)\n",
    "                    df = df.append(pd.Series(temp_list, index=fields), ignore_index=True)\n",
    "                    temp_list=[]\n",
    "                    column_count=0\n",
    "                    row_count+=1\n",
    "        else:\n",
    "            df['Rooms']=df['Rooms'].astype('int')\n",
    "            row_count=0\n",
    "            result_idx=df.groupby(['TYPE'])['Rooms'].transform(max) == df['Rooms']\n",
    "            chunk_result=df[result_idx].reset_index()\n",
    "            chunk_result=chunk_result[['HOTEL NAME','STATE','TYPE','Rooms']]\n",
    "            result=result.append(chunk_result,ignore_index=True)\n",
    "            df.drop(df.index, inplace=True)\n",
    "            chunk_count+=1\n",
    "            print('processed {} number of rows'.format(chunk_count*chunk_size))"
   ]
  },
  {
   "cell_type": "code",
   "execution_count": 169,
   "metadata": {},
   "outputs": [
    {
     "data": {
      "text/html": [
       "<div>\n",
       "<style scoped>\n",
       "    .dataframe tbody tr th:only-of-type {\n",
       "        vertical-align: middle;\n",
       "    }\n",
       "\n",
       "    .dataframe tbody tr th {\n",
       "        vertical-align: top;\n",
       "    }\n",
       "\n",
       "    .dataframe thead th {\n",
       "        text-align: right;\n",
       "    }\n",
       "</style>\n",
       "<table border=\"1\" class=\"dataframe\">\n",
       "  <thead>\n",
       "    <tr style=\"text-align: right;\">\n",
       "      <th></th>\n",
       "      <th>HOTEL NAME</th>\n",
       "      <th>STATE</th>\n",
       "      <th>TYPE</th>\n",
       "      <th>Rooms</th>\n",
       "    </tr>\n",
       "  </thead>\n",
       "  <tbody>\n",
       "    <tr>\n",
       "      <th>0</th>\n",
       "      <td>The Savera Hotel</td>\n",
       "      <td>TAMIL NADU</td>\n",
       "      <td>4 Star</td>\n",
       "      <td>230</td>\n",
       "    </tr>\n",
       "  </tbody>\n",
       "</table>\n",
       "</div>"
      ],
      "text/plain": [
       "         HOTEL NAME       STATE    TYPE  Rooms\n",
       "0  The Savera Hotel  TAMIL NADU  4 Star    230"
      ]
     },
     "execution_count": 169,
     "metadata": {},
     "output_type": "execute_result"
    }
   ],
   "source": [
    "df['Rooms']=df['Rooms'].astype('int')\n",
    "row_count=0\n",
    "result_idx=df.groupby(['TYPE'])['Rooms'].transform(max) == df['Rooms']\n",
    "chunk_result=df[result_idx].reset_index()\n",
    "chunk_result=chunk_result[['HOTEL NAME','STATE','TYPE','Rooms']]\n",
    "result=result.append(chunk_result,ignore_index=True)\n",
    "df.drop(df.index, inplace=True)\n",
    "chunk_result.head()"
   ]
  },
  {
   "cell_type": "code",
   "execution_count": 170,
   "metadata": {},
   "outputs": [
    {
     "data": {
      "text/html": [
       "<div>\n",
       "<style scoped>\n",
       "    .dataframe tbody tr th:only-of-type {\n",
       "        vertical-align: middle;\n",
       "    }\n",
       "\n",
       "    .dataframe tbody tr th {\n",
       "        vertical-align: top;\n",
       "    }\n",
       "\n",
       "    .dataframe thead th {\n",
       "        text-align: right;\n",
       "    }\n",
       "</style>\n",
       "<table border=\"1\" class=\"dataframe\">\n",
       "  <thead>\n",
       "    <tr style=\"text-align: right;\">\n",
       "      <th></th>\n",
       "      <th>HOTEL NAME</th>\n",
       "      <th>STATE</th>\n",
       "      <th>TYPE</th>\n",
       "      <th>Rooms</th>\n",
       "    </tr>\n",
       "  </thead>\n",
       "  <tbody>\n",
       "    <tr>\n",
       "      <th>0</th>\n",
       "      <td>The Lalit Grand Palace</td>\n",
       "      <td>JAMMU AND KASHMIR</td>\n",
       "      <td>Heritage Grand</td>\n",
       "      <td>112</td>\n",
       "    </tr>\n",
       "    <tr>\n",
       "      <th>1</th>\n",
       "      <td>Noor Us Sabah Palace</td>\n",
       "      <td>MADHYA PRADESH</td>\n",
       "      <td>Heritage Classic</td>\n",
       "      <td>57</td>\n",
       "    </tr>\n",
       "    <tr>\n",
       "      <th>2</th>\n",
       "      <td>Jehan Numa Palace Hotel</td>\n",
       "      <td>MADHYA PRADESH</td>\n",
       "      <td>Heritage Basic</td>\n",
       "      <td>98</td>\n",
       "    </tr>\n",
       "    <tr>\n",
       "      <th>3</th>\n",
       "      <td>The Ashok</td>\n",
       "      <td>DELHI</td>\n",
       "      <td>5 Star Deluxe</td>\n",
       "      <td>550</td>\n",
       "    </tr>\n",
       "    <tr>\n",
       "      <th>4</th>\n",
       "      <td>The Taj Mahal Palace &amp; Tower</td>\n",
       "      <td>MAHARASHTRA</td>\n",
       "      <td>5 Star Deluxe</td>\n",
       "      <td>565</td>\n",
       "    </tr>\n",
       "  </tbody>\n",
       "</table>\n",
       "</div>"
      ],
      "text/plain": [
       "                      HOTEL NAME              STATE              TYPE Rooms\n",
       "0         The Lalit Grand Palace  JAMMU AND KASHMIR    Heritage Grand   112\n",
       "1           Noor Us Sabah Palace     MADHYA PRADESH  Heritage Classic    57\n",
       "2       Jehan Numa Palace Hotel      MADHYA PRADESH    Heritage Basic    98\n",
       "3                      The Ashok              DELHI     5 Star Deluxe   550\n",
       "4  The Taj Mahal Palace & Tower         MAHARASHTRA     5 Star Deluxe   565"
      ]
     },
     "execution_count": 170,
     "metadata": {},
     "output_type": "execute_result"
    }
   ],
   "source": [
    "result.head()"
   ]
  },
  {
   "cell_type": "code",
   "execution_count": 178,
   "metadata": {},
   "outputs": [],
   "source": [
    "result_idx=result.groupby(['TYPE'])['Rooms'].transform(max) == result['Rooms']\n",
    "final_result=result[result_idx].reset_index()"
   ]
  },
  {
   "cell_type": "code",
   "execution_count": 179,
   "metadata": {},
   "outputs": [
    {
     "data": {
      "text/plain": [
       "(6, 5)"
      ]
     },
     "execution_count": 179,
     "metadata": {},
     "output_type": "execute_result"
    }
   ],
   "source": [
    "final_result.shape"
   ]
  },
  {
   "cell_type": "code",
   "execution_count": 180,
   "metadata": {},
   "outputs": [
    {
     "data": {
      "text/html": [
       "<div>\n",
       "<style scoped>\n",
       "    .dataframe tbody tr th:only-of-type {\n",
       "        vertical-align: middle;\n",
       "    }\n",
       "\n",
       "    .dataframe tbody tr th {\n",
       "        vertical-align: top;\n",
       "    }\n",
       "\n",
       "    .dataframe thead th {\n",
       "        text-align: right;\n",
       "    }\n",
       "</style>\n",
       "<table border=\"1\" class=\"dataframe\">\n",
       "  <thead>\n",
       "    <tr style=\"text-align: right;\">\n",
       "      <th></th>\n",
       "      <th>index</th>\n",
       "      <th>HOTEL NAME</th>\n",
       "      <th>STATE</th>\n",
       "      <th>TYPE</th>\n",
       "      <th>Rooms</th>\n",
       "    </tr>\n",
       "  </thead>\n",
       "  <tbody>\n",
       "    <tr>\n",
       "      <th>0</th>\n",
       "      <td>0</td>\n",
       "      <td>The Lalit Grand Palace</td>\n",
       "      <td>JAMMU AND KASHMIR</td>\n",
       "      <td>Heritage Grand</td>\n",
       "      <td>112</td>\n",
       "    </tr>\n",
       "    <tr>\n",
       "      <th>1</th>\n",
       "      <td>1</td>\n",
       "      <td>Noor Us Sabah Palace</td>\n",
       "      <td>MADHYA PRADESH</td>\n",
       "      <td>Heritage Classic</td>\n",
       "      <td>57</td>\n",
       "    </tr>\n",
       "    <tr>\n",
       "      <th>2</th>\n",
       "      <td>2</td>\n",
       "      <td>Jehan Numa Palace Hotel</td>\n",
       "      <td>MADHYA PRADESH</td>\n",
       "      <td>Heritage Basic</td>\n",
       "      <td>98</td>\n",
       "    </tr>\n",
       "    <tr>\n",
       "      <th>3</th>\n",
       "      <td>4</td>\n",
       "      <td>The Taj Mahal Palace &amp; Tower</td>\n",
       "      <td>MAHARASHTRA</td>\n",
       "      <td>5 Star Deluxe</td>\n",
       "      <td>565</td>\n",
       "    </tr>\n",
       "    <tr>\n",
       "      <th>4</th>\n",
       "      <td>5</td>\n",
       "      <td>Novotel Hyderabad Airport</td>\n",
       "      <td>ANDHRA PRADESH</td>\n",
       "      <td>5 Star</td>\n",
       "      <td>305</td>\n",
       "    </tr>\n",
       "    <tr>\n",
       "      <th>5</th>\n",
       "      <td>7</td>\n",
       "      <td>Hotel Trident</td>\n",
       "      <td>MAHARASHTRA</td>\n",
       "      <td>4 Star</td>\n",
       "      <td>436</td>\n",
       "    </tr>\n",
       "  </tbody>\n",
       "</table>\n",
       "</div>"
      ],
      "text/plain": [
       "   index                     HOTEL NAME              STATE              TYPE  \\\n",
       "0      0         The Lalit Grand Palace  JAMMU AND KASHMIR    Heritage Grand   \n",
       "1      1           Noor Us Sabah Palace     MADHYA PRADESH  Heritage Classic   \n",
       "2      2       Jehan Numa Palace Hotel      MADHYA PRADESH    Heritage Basic   \n",
       "3      4  The Taj Mahal Palace & Tower         MAHARASHTRA     5 Star Deluxe   \n",
       "4      5     Novotel Hyderabad Airport      ANDHRA PRADESH            5 Star   \n",
       "5      7                  Hotel Trident        MAHARASHTRA            4 Star   \n",
       "\n",
       "  Rooms  \n",
       "0   112  \n",
       "1    57  \n",
       "2    98  \n",
       "3   565  \n",
       "4   305  \n",
       "5   436  "
      ]
     },
     "execution_count": 180,
     "metadata": {},
     "output_type": "execute_result"
    }
   ],
   "source": [
    "final_result.head(6)"
   ]
  }
 ],
 "metadata": {
  "kernelspec": {
   "display_name": "Python 3",
   "language": "python",
   "name": "python3"
  },
  "language_info": {
   "codemirror_mode": {
    "name": "ipython",
    "version": 3
   },
   "file_extension": ".py",
   "mimetype": "text/x-python",
   "name": "python",
   "nbconvert_exporter": "python",
   "pygments_lexer": "ipython3",
   "version": "3.6.6"
  }
 },
 "nbformat": 4,
 "nbformat_minor": 2
}
