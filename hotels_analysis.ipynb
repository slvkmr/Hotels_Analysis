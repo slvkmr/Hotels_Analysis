{
 "cells": [
  {
   "cell_type": "markdown",
   "metadata": {},
   "source": [
    "## Import required packages"
   ]
  },
  {
   "cell_type": "code",
   "execution_count": 4,
   "metadata": {},
   "outputs": [],
   "source": [
    "import numpy as np\n",
    "import pandas as pd\n",
    "import json"
   ]
  },
  {
   "cell_type": "markdown",
   "metadata": {},
   "source": [
    "## Open and load Json file"
   ]
  },
  {
   "cell_type": "code",
   "execution_count": 6,
   "metadata": {},
   "outputs": [],
   "source": [
    "with open('.\\hotels.json') as f:\n",
    "    data = json.load(f)"
   ]
  },
  {
   "cell_type": "markdown",
   "metadata": {},
   "source": [
    "## Extract field names from json"
   ]
  },
  {
   "cell_type": "code",
   "execution_count": 17,
   "metadata": {},
   "outputs": [
    {
     "name": "stdout",
     "output_type": "stream",
     "text": [
      "['HOTEL NAME', 'ADDRESS', 'STATE', 'PHONE', 'FAX', 'EMAIL ID', 'WEBSITE', 'TYPE', 'Rooms']\n"
     ]
    }
   ],
   "source": [
    "fields=list()\n",
    "for i in range(0,len(data[\"fields\"])):\n",
    "    fields.append(data[\"fields\"][i][\"label\"])\n",
    "print(fields)"
   ]
  },
  {
   "cell_type": "markdown",
   "metadata": {},
   "source": [
    "## Build a dataframe from data of json"
   ]
  },
  {
   "cell_type": "code",
   "execution_count": 23,
   "metadata": {},
   "outputs": [
    {
     "data": {
      "text/html": [
       "<div>\n",
       "<style scoped>\n",
       "    .dataframe tbody tr th:only-of-type {\n",
       "        vertical-align: middle;\n",
       "    }\n",
       "\n",
       "    .dataframe tbody tr th {\n",
       "        vertical-align: top;\n",
       "    }\n",
       "\n",
       "    .dataframe thead th {\n",
       "        text-align: right;\n",
       "    }\n",
       "</style>\n",
       "<table border=\"1\" class=\"dataframe\">\n",
       "  <thead>\n",
       "    <tr style=\"text-align: right;\">\n",
       "      <th></th>\n",
       "      <th>HOTEL NAME</th>\n",
       "      <th>ADDRESS</th>\n",
       "      <th>STATE</th>\n",
       "      <th>PHONE</th>\n",
       "      <th>FAX</th>\n",
       "      <th>EMAIL ID</th>\n",
       "      <th>WEBSITE</th>\n",
       "      <th>TYPE</th>\n",
       "      <th>Rooms</th>\n",
       "    </tr>\n",
       "  </thead>\n",
       "  <tbody>\n",
       "    <tr>\n",
       "      <th>0</th>\n",
       "      <td>The Oberoi Cecil</td>\n",
       "      <td>\"Ambedkar ChowkChaura Maidan, Shimla - 171004,...</td>\n",
       "      <td>HIMACHAL PRADESH</td>\n",
       "      <td>0177-2804848</td>\n",
       "      <td>0177-2811024</td>\n",
       "      <td>reservations@oberoigroup.com</td>\n",
       "      <td>www.oberoihotels.com</td>\n",
       "      <td>Heritage Grand</td>\n",
       "      <td>75</td>\n",
       "    </tr>\n",
       "    <tr>\n",
       "      <th>1</th>\n",
       "      <td>The Lalit Grand Palace</td>\n",
       "      <td>\"Gupkar Road, Srinagar, JAMMU AND KASHMIR\"</td>\n",
       "      <td>JAMMU AND KASHMIR</td>\n",
       "      <td>1942501001</td>\n",
       "      <td>1942501003</td>\n",
       "      <td>srinagar@thelalit.com</td>\n",
       "      <td>NA</td>\n",
       "      <td>Heritage Grand</td>\n",
       "      <td>112</td>\n",
       "    </tr>\n",
       "    <tr>\n",
       "      <th>2</th>\n",
       "      <td>Hotel Fateh Prakash Palace</td>\n",
       "      <td>\"The City Palace Complex, Udaipur - 313001, RA...</td>\n",
       "      <td>RAJASTHAN</td>\n",
       "      <td>0294-2528016-9</td>\n",
       "      <td>0294-2528006</td>\n",
       "      <td>mgrfpp@udaipur.hrhindia.com</td>\n",
       "      <td>www.hrhindia.com</td>\n",
       "      <td>Heritage Grand</td>\n",
       "      <td>30</td>\n",
       "    </tr>\n",
       "    <tr>\n",
       "      <th>3</th>\n",
       "      <td>Shiv Niwas Palace</td>\n",
       "      <td>\"The City Palace ComplexUdaipur, Udaipur, RAJA...</td>\n",
       "      <td>RAJASTHAN</td>\n",
       "      <td>2942528016</td>\n",
       "      <td>2942528006</td>\n",
       "      <td>maltidutta50@yahoo.com</td>\n",
       "      <td>NA</td>\n",
       "      <td>Heritage Grand</td>\n",
       "      <td>36</td>\n",
       "    </tr>\n",
       "    <tr>\n",
       "      <th>4</th>\n",
       "      <td>Savoy Hotel</td>\n",
       "      <td>\"77, Sylks Road, Ootacamund, TAMIL NADU\"</td>\n",
       "      <td>TAMIL NADU</td>\n",
       "      <td>423244142</td>\n",
       "      <td>423443318</td>\n",
       "      <td>savoy.ooty@tajhotels.com</td>\n",
       "      <td>NA</td>\n",
       "      <td>Heritage Grand</td>\n",
       "      <td>40</td>\n",
       "    </tr>\n",
       "  </tbody>\n",
       "</table>\n",
       "</div>"
      ],
      "text/plain": [
       "                   HOTEL NAME  \\\n",
       "0            The Oberoi Cecil   \n",
       "1      The Lalit Grand Palace   \n",
       "2  Hotel Fateh Prakash Palace   \n",
       "3           Shiv Niwas Palace   \n",
       "4                Savoy Hotel    \n",
       "\n",
       "                                             ADDRESS              STATE  \\\n",
       "0  \"Ambedkar ChowkChaura Maidan, Shimla - 171004,...   HIMACHAL PRADESH   \n",
       "1         \"Gupkar Road, Srinagar, JAMMU AND KASHMIR\"  JAMMU AND KASHMIR   \n",
       "2  \"The City Palace Complex, Udaipur - 313001, RA...          RAJASTHAN   \n",
       "3  \"The City Palace ComplexUdaipur, Udaipur, RAJA...          RAJASTHAN   \n",
       "4           \"77, Sylks Road, Ootacamund, TAMIL NADU\"         TAMIL NADU   \n",
       "\n",
       "            PHONE           FAX                      EMAIL ID  \\\n",
       "0   0177-2804848   0177-2811024  reservations@oberoigroup.com   \n",
       "1      1942501001    1942501003         srinagar@thelalit.com   \n",
       "2  0294-2528016-9  0294-2528006   mgrfpp@udaipur.hrhindia.com   \n",
       "3      2942528016    2942528006        maltidutta50@yahoo.com   \n",
       "4       423244142     423443318      savoy.ooty@tajhotels.com   \n",
       "\n",
       "                WEBSITE            TYPE Rooms  \n",
       "0  www.oberoihotels.com  Heritage Grand    75  \n",
       "1                    NA  Heritage Grand   112  \n",
       "2      www.hrhindia.com  Heritage Grand    30  \n",
       "3                    NA  Heritage Grand    36  \n",
       "4                    NA  Heritage Grand    40  "
      ]
     },
     "execution_count": 23,
     "metadata": {},
     "output_type": "execute_result"
    }
   ],
   "source": [
    "df=pd.DataFrame(data[\"data\"],columns=fields)\n",
    "df.head()"
   ]
  },
  {
   "cell_type": "markdown",
   "metadata": {},
   "source": [
    "## Inspect data types"
   ]
  },
  {
   "cell_type": "code",
   "execution_count": 24,
   "metadata": {},
   "outputs": [
    {
     "data": {
      "text/plain": [
       "HOTEL NAME    object\n",
       "ADDRESS       object\n",
       "STATE         object\n",
       "PHONE         object\n",
       "FAX           object\n",
       "EMAIL ID      object\n",
       "WEBSITE       object\n",
       "TYPE          object\n",
       "Rooms         object\n",
       "dtype: object"
      ]
     },
     "execution_count": 24,
     "metadata": {},
     "output_type": "execute_result"
    }
   ],
   "source": [
    "df.dtypes"
   ]
  },
  {
   "cell_type": "code",
   "execution_count": 27,
   "metadata": {},
   "outputs": [
    {
     "data": {
      "text/plain": [
       "dtype('int32')"
      ]
     },
     "execution_count": 27,
     "metadata": {},
     "output_type": "execute_result"
    }
   ],
   "source": [
    "df['Rooms']=df['Rooms'].astype('int')\n",
    "df['Rooms'].dtype"
   ]
  },
  {
   "cell_type": "markdown",
   "metadata": {},
   "source": [
    "## Compute Hotels with most rooms under each type"
   ]
  },
  {
   "cell_type": "code",
   "execution_count": 63,
   "metadata": {},
   "outputs": [],
   "source": [
    "result_idx=df.groupby(['TYPE'])['Rooms'].transform(max) == df['Rooms']\n",
    "result=df[result_idx].reset_index()\n",
    "result=result[['HOTEL NAME','STATE','TYPE','Rooms']]"
   ]
  },
  {
   "cell_type": "code",
   "execution_count": 64,
   "metadata": {},
   "outputs": [
    {
     "data": {
      "text/plain": [
       "(6, 4)"
      ]
     },
     "execution_count": 64,
     "metadata": {},
     "output_type": "execute_result"
    }
   ],
   "source": [
    "result.shape"
   ]
  },
  {
   "cell_type": "code",
   "execution_count": 65,
   "metadata": {},
   "outputs": [
    {
     "data": {
      "text/html": [
       "<div>\n",
       "<style scoped>\n",
       "    .dataframe tbody tr th:only-of-type {\n",
       "        vertical-align: middle;\n",
       "    }\n",
       "\n",
       "    .dataframe tbody tr th {\n",
       "        vertical-align: top;\n",
       "    }\n",
       "\n",
       "    .dataframe thead th {\n",
       "        text-align: right;\n",
       "    }\n",
       "</style>\n",
       "<table border=\"1\" class=\"dataframe\">\n",
       "  <thead>\n",
       "    <tr style=\"text-align: right;\">\n",
       "      <th></th>\n",
       "      <th>HOTEL NAME</th>\n",
       "      <th>STATE</th>\n",
       "      <th>TYPE</th>\n",
       "      <th>Rooms</th>\n",
       "    </tr>\n",
       "  </thead>\n",
       "  <tbody>\n",
       "    <tr>\n",
       "      <th>0</th>\n",
       "      <td>The Lalit Grand Palace</td>\n",
       "      <td>JAMMU AND KASHMIR</td>\n",
       "      <td>Heritage Grand</td>\n",
       "      <td>112</td>\n",
       "    </tr>\n",
       "    <tr>\n",
       "      <th>1</th>\n",
       "      <td>Noor Us Sabah Palace</td>\n",
       "      <td>MADHYA PRADESH</td>\n",
       "      <td>Heritage Classic</td>\n",
       "      <td>57</td>\n",
       "    </tr>\n",
       "    <tr>\n",
       "      <th>2</th>\n",
       "      <td>Jehan Numa Palace Hotel</td>\n",
       "      <td>MADHYA PRADESH</td>\n",
       "      <td>Heritage Basic</td>\n",
       "      <td>98</td>\n",
       "    </tr>\n",
       "    <tr>\n",
       "      <th>3</th>\n",
       "      <td>The Taj Mahal Palace &amp; Tower</td>\n",
       "      <td>MAHARASHTRA</td>\n",
       "      <td>5 Star Deluxe</td>\n",
       "      <td>565</td>\n",
       "    </tr>\n",
       "    <tr>\n",
       "      <th>4</th>\n",
       "      <td>Novotel Hyderabad Airport</td>\n",
       "      <td>ANDHRA PRADESH</td>\n",
       "      <td>5 Star</td>\n",
       "      <td>305</td>\n",
       "    </tr>\n",
       "    <tr>\n",
       "      <th>5</th>\n",
       "      <td>Hotel Trident</td>\n",
       "      <td>MAHARASHTRA</td>\n",
       "      <td>4 Star</td>\n",
       "      <td>436</td>\n",
       "    </tr>\n",
       "  </tbody>\n",
       "</table>\n",
       "</div>"
      ],
      "text/plain": [
       "                      HOTEL NAME              STATE              TYPE  Rooms\n",
       "0         The Lalit Grand Palace  JAMMU AND KASHMIR    Heritage Grand    112\n",
       "1           Noor Us Sabah Palace     MADHYA PRADESH  Heritage Classic     57\n",
       "2       Jehan Numa Palace Hotel      MADHYA PRADESH    Heritage Basic     98\n",
       "3  The Taj Mahal Palace & Tower         MAHARASHTRA     5 Star Deluxe    565\n",
       "4     Novotel Hyderabad Airport      ANDHRA PRADESH            5 Star    305\n",
       "5                  Hotel Trident        MAHARASHTRA            4 Star    436"
      ]
     },
     "execution_count": 65,
     "metadata": {},
     "output_type": "execute_result"
    }
   ],
   "source": [
    "result.head(6)"
   ]
  },
  {
   "cell_type": "markdown",
   "metadata": {},
   "source": [
    "## Handling large files"
   ]
  },
  {
   "cell_type": "code",
   "execution_count": 68,
   "metadata": {},
   "outputs": [],
   "source": [
    "#For large files that do not fit into memory, we have to options\n",
    "#one idea is to process them in chunks and do the computation sequentially.\n",
    "#Other idea is to distribute and scale them to different machine and do the computation paralelly.\n",
    "#As I run in a single machine, below implementation follows first approach"
   ]
  },
  {
   "cell_type": "code",
   "execution_count": 67,
   "metadata": {},
   "outputs": [
    {
     "name": "stdout",
     "output_type": "stream",
     "text": [
      "0\n",
      "100\n",
      "200\n"
     ]
    }
   ],
   "source": [
    "CHUNK_SIZE=100\n",
    "\n",
    "for i in range(0,len(),CHUNK_SIZE):\n",
    "    print(i)"
   ]
  }
 ],
 "metadata": {
  "kernelspec": {
   "display_name": "Python 3",
   "language": "python",
   "name": "python3"
  },
  "language_info": {
   "codemirror_mode": {
    "name": "ipython",
    "version": 3
   },
   "file_extension": ".py",
   "mimetype": "text/x-python",
   "name": "python",
   "nbconvert_exporter": "python",
   "pygments_lexer": "ipython3",
   "version": "3.5.5"
  }
 },
 "nbformat": 4,
 "nbformat_minor": 2
}
